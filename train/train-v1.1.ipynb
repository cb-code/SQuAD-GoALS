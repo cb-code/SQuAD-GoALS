{
 "cells": [
  {
   "cell_type": "code",
   "execution_count": 91,
   "metadata": {},
  },
  {
   "cell_type": "code",
   "execution_count": 99,
   "metadata": {},
   "outputs": [
    {
     "name": "stdout",
     "output_type": "stream",
     "text": [
      "altair==4.1.0\r\n",
      "appnope==0.1.2\r\n",
      "argon2-cffi==20.1.0\r\n",
      "astor==0.8.1\r\n",
      "async-generator==1.10\r\n",
      "attrs==20.3.0\r\n",
      "backcall==0.2.0\r\n",
      "base58==2.1.0\r\n",
      "beautifulsoup4==4.9.1\r\n",
      "bleach==3.3.0\r\n",
      "blinker==1.4\r\n",
      "bs4==0.0.1\r\n",
      "cachetools==4.2.1\r\n",
      "certifi==2020.6.20\r\n",
      "cffi==1.14.5\r\n",
      "chardet==3.0.4\r\n",
      "click==7.1.2\r\n",
      "configparser==5.0.2\r\n",
      "decorator==4.4.2\r\n",
      "defusedxml==0.7.1\r\n",
      "docker-pycreds==0.4.0\r\n",
      "entrypoints==0.3\r\n",
      "filelock==3.0.12\r\n",
      "gitdb==4.0.5\r\n",
      "GitPython==3.1.14\r\n",
      "google==3.0.0\r\n",
      "googlesearch-python==2020.0.2\r\n",
      "html2text==2020.1.16\r\n",
      "idna==2.10\r\n",
      "ipykernel==5.5.0\r\n",
      "ipython==7.21.0\r\n",
      "ipython-genutils==0.2.0\r\n",
      "ipywidgets==7.6.3\r\n",
      "jedi==0.18.0\r\n",
      "Jinja2==2.11.3\r\n",
      "joblib==1.0.1\r\n",
      "jsonschema==3.2.0\r\n",
      "jupyter-client==6.1.12\r\n",
      "jupyter-core==4.7.1\r\n",
      "jupyterlab-pygments==0.1.2\r\n",
      "jupyterlab-widgets==1.0.0\r\n",
      "Markdown==3.3.4\r\n",
      "MarkupSafe==1.1.1\r\n",
      "mistune==0.8.4\r\n",
      "nbclient==0.5.3\r\n",
      "nbconvert==6.0.7\r\n",
      "nbformat==5.1.2\r\n",
      "nest-asyncio==1.5.1\r\n",
      "notebook==6.2.0\r\n",
      "numpy==1.20.1\r\n",
      "packaging==20.9\r\n",
      "pandas==1.2.3\r\n",
      "pandocfilters==1.4.3\r\n",
      "parso==0.8.1\r\n",
      "pathtools==0.1.2\r\n",
      "pexpect==4.8.0\r\n",
      "pickleshare==0.7.5\r\n",
      "Pillow==8.1.2\r\n",
      "prometheus-client==0.9.0\r\n",
      "promise==2.3\r\n",
      "prompt-toolkit==3.0.17\r\n",
      "protobuf==3.15.6\r\n",
      "psutil==5.8.0\r\n",
      "ptyprocess==0.7.0\r\n",
      "pyarrow==3.0.0\r\n",
      "pycparser==2.20\r\n",
      "pydeck==0.6.1\r\n",
      "Pygments==2.8.1\r\n",
      "pyparsing==2.4.7\r\n",
      "pyrsistent==0.17.3\r\n",
      "python-dateutil==2.8.1\r\n",
      "pytz==2021.1\r\n",
      "PyYAML==5.4.1\r\n",
      "pyzmq==22.0.3\r\n",
      "regex==2021.3.17\r\n",
      "requests==2.24.0\r\n",
      "sacremoses==0.0.43\r\n",
      "scikit-learn==0.24.1\r\n",
      "scipy==1.6.1\r\n",
      "Send2Trash==1.5.0\r\n",
      "sentencepiece==0.1.95\r\n",
      "sentry-sdk==1.0.0\r\n",
      "seqeval==1.2.2\r\n",
      "shortuuid==1.0.1\r\n",
      "simpletransformers==0.60.9\r\n",
      "six==1.15.0\r\n",
      "smmap==3.0.5\r\n",
      "soupsieve==2.0.1\r\n",
      "streamlit==0.78.0\r\n",
      "subprocess32==3.5.4\r\n",
      "tensorboardX==2.1\r\n",
      "terminado==0.9.3\r\n",
      "testpath==0.4.4\r\n",
      "threadpoolctl==2.1.0\r\n",
      "tokenizers==0.10.1\r\n",
      "toml==0.10.2\r\n",
      "toolz==0.11.1\r\n",
      "torch==1.8.0\r\n",
      "torchvision==0.9.0\r\n",
      "tornado==6.1\r\n",
      "tqdm==4.59.0\r\n",
      "traitlets==5.0.5\r\n",
      "transformers==4.4.1\r\n",
      "typing-extensions==3.7.4.3\r\n",
      "tzlocal==2.1\r\n",
      "urllib3==1.25.9\r\n",
      "validators==0.18.2\r\n",
      "wandb==0.10.22\r\n",
      "wcwidth==0.2.5\r\n",
      "webencodings==0.5.1\r\n",
      "widgetsnbextension==3.5.1\r\n"
     ]
    }
   ],
   "source": [
    "!pip freeze"
   ]
  },
  {
   "cell_type": "code",
   "execution_count": 111,
   "metadata": {},
   "outputs": [],
   "source": [
    "!pip3 freeze > nlp_requirements.txt  "
   ]
  },
  {
   "cell_type": "code",
   "execution_count": 94,
   "metadata": {},
   "outputs": [],
   "source": [
    "import numpy as np\n",
    "import requests\n",
    "import html2text\n",
    "import google\n",
    "# from google import search\n",
    "import re\n",
    "from simpletransformers.question_answering import QuestionAnsweringModel\n",
    "from IPython.display import display\n",
    "from IPython.html import widgets\n",
    "from bs4 import BeautifulSoup\n",
    "from markdown import markdown"
   ]
  },
  {
   "cell_type": "code",
   "execution_count": 73,
   "metadata": {},
   "outputs": [],
   "source": [
    "# Avaliable models: https://huggingface.co/transformers/pretrained_models.html\n",
    "model = QuestionAnsweringModel('distilbert', 'distilbert-base-uncased-distilled-squad', use_cuda=False)"
   ]
  },
  {
   "cell_type": "code",
   "execution_count": 74,
   "metadata": {},
   "outputs": [],
   "source": [
    "def predict_answer(model, question, contexts, seq_len=512, debug=False):\n",
    "    split_context = []\n",
    "    \n",
    "    if not isinstance(contexts, list):\n",
    "        contexts = [contexts]\n",
    "    \n",
    "    for context in contexts:\n",
    "        for i in range(0, len(context), seq_len):\n",
    "            split_context.append(context[i:i+seq_len])\n",
    "            \n",
    "    split_context = contexts\n",
    "    \n",
    "    f_data = []\n",
    "    \n",
    "    for i, c in enumerate(split_context):\n",
    "        f_data.append(\n",
    "            {'qas': \n",
    "              [{'question': question,\n",
    "               'id': i,\n",
    "               'answers': [{'text': ' ', 'answer_start': 0}],\n",
    "               'is_impossible': False}],\n",
    "              'context': c\n",
    "            })\n",
    "        \n",
    "    prediction = model.predict(f_data)\n",
    "#     print(type(prediction))\n",
    "#     print(prediction[0])\n",
    "#     print(len(prediction))\n",
    "#     print(len(prediction[0]))\n",
    "    if debug:\n",
    "        print(prediction)\n",
    "#     prediction['answer']\n",
    "    preds = [x['answer'][0].lower().strip() for x in prediction[0] if x['answer'][0].strip() != '']\n",
    "    if preds:\n",
    "      return max(set(preds), key=preds.count)\n",
    "    return 'No answer'"
   ]
  },
  {
   "cell_type": "code",
   "execution_count": 75,
   "metadata": {},
   "outputs": [],
   "source": [
    "# Source: https://gist.github.com/lorey/eb15a7f3338f959a78cc3661fbc255fe\n",
    "def markdown_to_text(markdown_string):\n",
    "    \"\"\" Converts a markdown string to plaintext \"\"\"\n",
    "\n",
    "    # md -> html -> text since BeautifulSoup can extract text cleanly\n",
    "    html = markdown(markdown_string)\n",
    "\n",
    "    # remove code snippets\n",
    "    html = re.sub(r'<pre>(.*?)</pre>', ' ', html)\n",
    "    html = re.sub(r'<code>(.*?)</code >', ' ', html)\n",
    "\n",
    "    # extract text\n",
    "    soup = BeautifulSoup(html, \"html.parser\")\n",
    "    text = ''.join(soup.findAll(text=True))\n",
    "\n",
    "    return text\n",
    "\n",
    "def format_text(text):\n",
    "    text = markdown_to_text(text)\n",
    "    text = text.replace('\\n', ' ')\n",
    "    return text"
   ]
  },
  {
   "cell_type": "code",
   "execution_count": 107,
   "metadata": {},
   "outputs": [],
   "source": [
    "def query_pages(query):\n",
    "#     print(search(query))\n",
    "    return list(search(query))\n",
    "\n",
    "def query_to_text(query):\n",
    "    html_conv = html2text.HTML2Text()\n",
    "    html_conv.ignore_links = True\n",
    "    html_conv.escape_all = True\n",
    "    \n",
    "    text = []\n",
    "    for link in query_pages(query)[1:]:\n",
    "        print(link)\n",
    "        req = requests.get(link)\n",
    "        text.append(html_conv.handle(req.text))\n",
    "        text[-1] = format_text(text[-1])\n",
    "        \n",
    "    return text"
   ]
  },
  {
   "cell_type": "code",
   "execution_count": 110,
   "metadata": {},
   "outputs": [
    {
     "name": "stdout",
     "output_type": "stream",
     "text": [
      "['https://en.wikipedia.org/wiki/Pakistan', 'https://en.wikipedia.org/wiki/Pakistan', 'https://en.wikipedia.org/wiki/History_of_Pakistan_(1947%E2%80%93present)', 'https://en.wikipedia.org/wiki/History_of_Pakistan', 'https://www.cnn.com/2017/08/08/asia/india-pakistan-independence-timeline/index.html', 'https://www.ducksters.com/geography/country/pakistan_history_timeline.php', 'https://thecommonwealth.org/our-member-countries/pakistan/history', 'https://www.britannica.com/place/Pakistan/History', 'https://www.britannica.com/topic/history-of-Pakistan', 'https://uh.edu/~sriaz/thecountry/kyiph/', 'https://history.state.gov/countries/pakistan', 'https://www.aljazeera.com/news/2019/8/14/how-india-pakistan-and-bangladesh-were-formed']\n",
      "https://en.wikipedia.org/wiki/Pakistan\n",
      "https://en.wikipedia.org/wiki/History_of_Pakistan_(1947%E2%80%93present)\n",
      "https://en.wikipedia.org/wiki/History_of_Pakistan\n",
      "https://www.cnn.com/2017/08/08/asia/india-pakistan-independence-timeline/index.html\n",
      "https://www.ducksters.com/geography/country/pakistan_history_timeline.php\n",
      "https://thecommonwealth.org/our-member-countries/pakistan/history\n",
      "https://www.britannica.com/place/Pakistan/History\n",
      "https://www.britannica.com/topic/history-of-Pakistan\n",
      "https://uh.edu/~sriaz/thecountry/kyiph/\n",
      "https://history.state.gov/countries/pakistan\n",
      "https://www.aljazeera.com/news/2019/8/14/how-india-pakistan-and-bangladesh-were-formed\n"
     ]
    },
    {
     "name": "stderr",
     "output_type": "stream",
     "text": [
      "100%|██████████| 11/11 [00:08<00:00,  1.34it/s]\n",
      "add example index and unique id: 100%|██████████| 11/11 [00:00<00:00, 26125.34it/s]\n"
     ]
    },
    {
     "data": {
      "application/vnd.jupyter.widget-view+json": {
       "model_id": "20bb144199cf46d39aaf314d1672154b",
       "version_major": 2,
       "version_minor": 0
      },
      "text/plain": [
       "Running Prediction:   0%|          | 0/45 [00:00<?, ?it/s]"
      ]
     },
     "metadata": {},
     "output_type": "display_data"
    },
    {
     "name": "stdout",
     "output_type": "stream",
     "text": [
      "1947\n"
     ]
    }
   ],
   "source": [
    "question = 'when was pakistan founded?'\n",
    "context = query_to_text(question)\n",
    "pred = predict_answer(model, question, context)\n",
    "print(pred)"
   ]
  }
 ],
 "metadata": {
  "kernelspec": {
   "display_name": "nlp_project",
   "language": "python",
   "name": "nlp_project"
  },
  "language_info": {
   "codemirror_mode": {
    "name": "ipython",
    "version": 3
   },
   "file_extension": ".py",
   "mimetype": "text/x-python",
   "name": "python",
   "nbconvert_exporter": "python",
   "pygments_lexer": "ipython3",
   "version": "3.8.5"
  }
 },
 "nbformat": 4,
 "nbformat_minor": 4
}
